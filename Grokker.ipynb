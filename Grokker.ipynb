{
 "metadata": {
  "name": "",
  "signature": "sha256:da7a85b7137fbab636b61496256ae483331cad25ef188e746b0213a978fc80ef"
 },
 "nbformat": 3,
 "nbformat_minor": 0,
 "worksheets": [
  {
   "cells": [
    {
     "cell_type": "markdown",
     "metadata": {},
     "source": [
      "#Grok (als Pattern Bibliothek)\n",
      "\n",
      "Grok soll das schreiben von Such-Pattern gegen\u00fcber Regex vereinfachen.\n",
      "\n",
      "So w\u00fcrde das Pattern\n",
      "\n",
      " `Log: %{USERNAME} %{NUMBER}`\n",
      " \n",
      "auf einen Text \n",
      "\n",
      " `Log: user123 42`\n",
      " \n",
      "matchen.\n",
      "\n",
      "Unter [logstash-patterns](https://github.com/logstash-plugins/logstash-patterns-core/tree/master/patterns) sind viele Definitionen vorbereitet. \n",
      "\n",
      "## Beispiel Definitionen\n",
      "Erst einmal reicht der kurze Ausschnitt hier:"
     ]
    },
    {
     "cell_type": "code",
     "collapsed": false,
     "input": [
      "GROK_PATTERN_EXAMPLES = r\"\"\"\n",
      "USERNAME [a-zA-Z0-9._-]+\n",
      "USER %{USERNAME}\n",
      "INT (?:[+-]?(?:[0-9]+))\n",
      "BASE10NUM (?<![0-9.+-])(?>[+-]?(?:(?:[0-9]+(?:\\.[0-9]+)?)|(?:\\.[0-9]+)))\n",
      "NUMBER (?:%{BASE10NUM})\n",
      "BASE16NUM (?<![0-9A-Fa-f])(?:[+-]?(?:0x)?(?:[0-9A-Fa-f]+))\n",
      "BASE16FLOAT \\b(?<![0-9A-Fa-f.])(?:[+-]?(?:0x)?(?:(?:[0-9A-Fa-f]+(?:\\.[0-9A-Fa-f]*)?)|(?:\\.[0-9A-Fa-f]+)))\\b\n",
      "\"\"\""
     ],
     "language": "python",
     "metadata": {},
     "outputs": [],
     "prompt_number": 17
    },
    {
     "cell_type": "markdown",
     "metadata": {},
     "source": [
      "## Aufbau der Definitonen\n",
      "\n",
      "Grok Zeilen folgen dem Muster:\n",
      "\n",
      "NAME SPACE RULE-DEFINITION\n",
      "\n",
      "In Regex umgesetzt ist das"
     ]
    },
    {
     "cell_type": "code",
     "collapsed": false,
     "input": [
      "parse_grok_lines = '''\n",
      "^             # Anfang einer Zeile\n",
      "(?P<name>\\w+) # Ein Name besteht nur aus den \\w Zeichen ([a-z0-9-])\n",
      "\\s+           # dann kommen Leerzeichen\n",
      "(?P<rule>.*)  # und der Rest ist dann die Definition der Regel\n",
      "$             # Ende der Zeile\n",
      "'''"
     ],
     "language": "python",
     "metadata": {},
     "outputs": [],
     "prompt_number": 18
    },
    {
     "cell_type": "markdown",
     "metadata": {},
     "source": [
      "## Parsen der Definitionen\n",
      "\n",
      "Wir k\u00f6nnen jetzt also die Eingabedaten mit dem Regul\u00e4ren Ausdruck auf Grok-Regeln durchsuchen.\n",
      "\n",
      "**Achtung: das Standard Modul `re` f\u00fcr Python ist nicht m\u00e4chtig genung f\u00fcr die Regul\u00e4ren Ausdr\u00fccke, die wir erzeugen.**\n",
      "\n"
     ]
    },
    {
     "cell_type": "code",
     "collapsed": false,
     "input": [
      "import regex as re"
     ],
     "language": "python",
     "metadata": {},
     "outputs": [],
     "prompt_number": 19
    },
    {
     "cell_type": "markdown",
     "metadata": {},
     "source": [
      "In dem **groupdict** sind die Eintr\u00e4ge **name** und **rule** mit dem Namen und der Definition der Grok-Definiton belegt."
     ]
    },
    {
     "cell_type": "code",
     "collapsed": false,
     "input": [
      "def parse_pattern_definition(definition_string):\n",
      "    result = {}\n",
      "    for mo in re.finditer(parse_grok_lines, definition_string, re.MULTILINE | re.VERBOSE):\n",
      "        md = mo.groupdict()\n",
      "        result[md['name']] = md['rule']\n",
      "    return result\n",
      "\n",
      "#    return dict([mo.groups() for mo in re.finditer(parse_grok_lines, definition_string, re.MULTILINE | re.VERBOSE)])"
     ],
     "language": "python",
     "metadata": {},
     "outputs": [],
     "prompt_number": 20
    },
    {
     "cell_type": "markdown",
     "metadata": {},
     "source": [
      "Damit parsen wir unsere Beispiel Grok Definitionen und schauen uns das Ergebnis f\u00fcr **USERNAME** an."
     ]
    },
    {
     "cell_type": "code",
     "collapsed": false,
     "input": [
      "GROK_PATTERNS = parse_pattern_definition(GROK_PATTERN_EXAMPLES)\n",
      "print(GROK_PATTERNS['USERNAME'])"
     ],
     "language": "python",
     "metadata": {},
     "outputs": [
      {
       "output_type": "stream",
       "stream": "stdout",
       "text": [
        "[a-zA-Z0-9._-]+\n"
       ]
      }
     ],
     "prompt_number": 21
    },
    {
     "cell_type": "markdown",
     "metadata": {},
     "source": [
      "## \u00dcbersetzen von Grok-Strings in Regex\n",
      "\n",
      "Ein Grok-String kann mehrere Grok-Regeln enthalten und diese k\u00f6nnen auch rekursiv auf weitere Grok-Regeln verweisen.\n",
      "\n",
      "Ein Grok-String besteht aus Text, der mit **%{rule(:...)?}** Abschnitten durchsetzt ist.\n",
      "\n",
      "Wegen der Rekursivit\u00e4t m\u00fcssen wir ersetzte Grok-Definitionen eventuell noch einmal umwandeln.\n",
      "\n",
      "Aber zun\u00e4chst einmal ein Regul\u00e4rer Ausdruck, der eine Grok-Regel findet und aufteilt."
     ]
    },
    {
     "cell_type": "code",
     "collapsed": false,
     "input": [
      "parse_grok_rule = '''\n",
      "%{                        # Die Regel f\u00e4ngt mit %{ an\n",
      "  (?P<rule>\\w+)           # dann kommt der Name der Regel\n",
      "  (?:                     # dann kommt etwas eine Regex-Gruppe (1), die wir uns nicht unbedingt merken m\u00fcssen\n",
      "    :                     # in dieser Gruppe kommt ein :\n",
      "    (?P<name>[^}:]+)      # und dann der Name unter dem das Ergebnis gespeichert werden soll\n",
      "    (?:                   # dann kommt wieder eine Regex-Gruppe (2), die wir uns nicht merken m\u00fcssen\n",
      "      :                   # und wieder ein :\n",
      "      (?P<type>[^}]+)     # und der Typ in das das Ergebnis gewandelt werden soll\n",
      "    )?                    # Diese Gruppe (2) kann, muss aber nicht vorkommen\n",
      "  )?                      # Auch diese Gruppe (1) kann, muss aber nicht vorkommen\n",
      "}                         # und am Ende steht ein }\n",
      "'''"
     ],
     "language": "python",
     "metadata": {},
     "outputs": [],
     "prompt_number": 22
    },
    {
     "cell_type": "markdown",
     "metadata": {},
     "source": [
      "Ein kurzer Test der Regex-Regel auf einen einfachen Grok-Ausdruck"
     ]
    },
    {
     "cell_type": "code",
     "collapsed": false,
     "input": [
      "mo = re.search(parse_grok_rule, '%{eins}', re.VERBOSE)\n",
      "assert {\n",
      "      'rule': 'eins',\n",
      "      'name': None,\n",
      "      'type': None\n",
      "    } == mo.groupdict()"
     ],
     "language": "python",
     "metadata": {},
     "outputs": [],
     "prompt_number": 23
    },
    {
     "cell_type": "markdown",
     "metadata": {},
     "source": [
      "Nun definieren wir eine Funktion mit der wir uns komplexeren Ausdr\u00fccken annehmen k\u00f6nnen"
     ]
    },
    {
     "cell_type": "code",
     "collapsed": false,
     "input": [
      "def grok_to_regex(grok):\n",
      "    match = re.search(parse_grok_rule, grok, re.VERBOSE)\n",
      "    if match:\n",
      "        md = match.groupdict()\n",
      "        simple_replacement = GROK_PATTERNS.get(\n",
      "                md['rule'],\n",
      "                \"UNDEFINED PATTERN: %s\" % md['rule'])\n",
      "        if md['name']:\n",
      "            replacement = '(?P<%s>%s)' % (md['name'], simple_replacement)\n",
      "        else:\n",
      "            replacement = simple_replacement\n",
      "        return grok[:match.start()] + grok_to_regex(replacement + grok[match.end():])\n",
      "    else:\n",
      "        return grok"
     ],
     "language": "python",
     "metadata": {},
     "outputs": [],
     "prompt_number": 24
    },
    {
     "cell_type": "markdown",
     "metadata": {},
     "source": [
      "Das probieren wir dann an einem Ausdruck aus ein bisschen Text, zwei Grok-Regeln und einem Leerzeichen aus. Heraus kommt ein relativ komplexer Regul\u00e4rer Ausdruck:"
     ]
    },
    {
     "cell_type": "code",
     "collapsed": false,
     "input": [
      "grok_to_regex(\"LOG: %{USERNAME:user_id} %{NUMBER:zahl}\")"
     ],
     "language": "python",
     "metadata": {},
     "outputs": [
      {
       "metadata": {},
       "output_type": "pyout",
       "prompt_number": 25,
       "text": [
        "'LOG: (?P<user_id>[a-zA-Z0-9._-]+) (?P<zahl>(?:(?<![0-9.+-])(?>[+-]?(?:(?:[0-9]+(?:\\\\.[0-9]+)?)|(?:\\\\.[0-9]+)))))'"
       ]
      }
     ],
     "prompt_number": 25
    },
    {
     "cell_type": "markdown",
     "metadata": {},
     "source": [
      "Den Regul\u00e4ren Ausdruck k\u00f6nnen wir dann auf eine imagin\u00e4re Log-Zeile los lassen."
     ]
    },
    {
     "cell_type": "code",
     "collapsed": false,
     "input": [
      "regex_string = grok_to_regex(\"LOG: %{USERNAME:user_id} %{NUMBER:zahl}\")\n",
      "mo = re.search(regex_string, \"LOG: user123 10\")\n",
      "assert {\n",
      "      'zahl': '10',\n",
      "      'user_id': 'user123'\n",
      "    } == mo.groupdict()"
     ],
     "language": "python",
     "metadata": {},
     "outputs": [],
     "prompt_number": 26
    },
    {
     "cell_type": "markdown",
     "metadata": {},
     "source": [
      "## Mehr Grok-Definitionen\n",
      "Nun probieren wir ein paar von den weiteren Grok-Regeln aus. Daf\u00fcr benutzen wir wieder die github Regeln"
     ]
    },
    {
     "cell_type": "code",
     "collapsed": false,
     "input": [
      "GROK_PATTERN_STRING = r\"\"\"\n",
      "USERNAME [a-zA-Z0-9._-]+\n",
      "USER %{USERNAME}\n",
      "EMAILLOCALPART [a-zA-Z][a-zA-Z0-9_.+-=:]+\n",
      "EMAILADDRESS %{EMAILLOCALPART}@%{HOSTNAME}\n",
      "INT (?:[+-]?(?:[0-9]+))\n",
      "BASE10NUM (?<![0-9.+-])(?>[+-]?(?:(?:[0-9]+(?:\\.[0-9]+)?)|(?:\\.[0-9]+)))\n",
      "NUMBER (?:%{BASE10NUM})\n",
      "BASE16NUM (?<![0-9A-Fa-f])(?:[+-]?(?:0x)?(?:[0-9A-Fa-f]+))\n",
      "BASE16FLOAT \\b(?<![0-9A-Fa-f.])(?:[+-]?(?:0x)?(?:(?:[0-9A-Fa-f]+(?:\\.[0-9A-Fa-f]*)?)|(?:\\.[0-9A-Fa-f]+)))\\b\n",
      "\n",
      "POSINT \\b(?:[1-9][0-9]*)\\b\n",
      "NONNEGINT \\b(?:[0-9]+)\\b\n",
      "WORD \\b\\w+\\b\n",
      "NOTSPACE \\S+\n",
      "SPACE \\s*\n",
      "DATA .*?\n",
      "GREEDYDATA .*\n",
      "QUOTEDSTRING (?>(?<!\\\\)(?>\"(?>\\\\.|[^\\\\\"]+)+\"|\"\"|(?>'(?>\\\\.|[^\\\\']+)+')|''|(?>`(?>\\\\.|[^\\\\`]+)+`)|``))\n",
      "UUID [A-Fa-f0-9]{8}-(?:[A-Fa-f0-9]{4}-){3}[A-Fa-f0-9]{12}\n",
      "# URN, allowing use of RFC 2141 section 2.3 reserved characters\n",
      "URN urn:[0-9A-Za-z][0-9A-Za-z-]{0,31}:(?:%[0-9a-fA-F]{2}|[0-9A-Za-z()+,.:=@;$_!*'/?#-])+\n",
      "\n",
      "# Networking\n",
      "MAC (?:%{CISCOMAC}|%{WINDOWSMAC}|%{COMMONMAC})\n",
      "CISCOMAC (?:(?:[A-Fa-f0-9]{4}\\.){2}[A-Fa-f0-9]{4})\n",
      "WINDOWSMAC (?:(?:[A-Fa-f0-9]{2}-){5}[A-Fa-f0-9]{2})\n",
      "COMMONMAC (?:(?:[A-Fa-f0-9]{2}:){5}[A-Fa-f0-9]{2})\n",
      "IPV6 ((([0-9A-Fa-f]{1,4}:){7}([0-9A-Fa-f]{1,4}|:))|(([0-9A-Fa-f]{1,4}:){6}(:[0-9A-Fa-f]{1,4}|((25[0-5]|2[0-4]\\d|1\\d\\d|[1-9]?\\d)(\\.(25[0-5]|2[0-4]\\d|1\\d\\d|[1-9]?\\d)){3})|:))|(([0-9A-Fa-f]{1,4}:){5}(((:[0-9A-Fa-f]{1,4}){1,2})|:((25[0-5]|2[0-4]\\d|1\\d\\d|[1-9]?\\d)(\\.(25[0-5]|2[0-4]\\d|1\\d\\d|[1-9]?\\d)){3})|:))|(([0-9A-Fa-f]{1,4}:){4}(((:[0-9A-Fa-f]{1,4}){1,3})|((:[0-9A-Fa-f]{1,4})?:((25[0-5]|2[0-4]\\d|1\\d\\d|[1-9]?\\d)(\\.(25[0-5]|2[0-4]\\d|1\\d\\d|[1-9]?\\d)){3}))|:))|(([0-9A-Fa-f]{1,4}:){3}(((:[0-9A-Fa-f]{1,4}){1,4})|((:[0-9A-Fa-f]{1,4}){0,2}:((25[0-5]|2[0-4]\\d|1\\d\\d|[1-9]?\\d)(\\.(25[0-5]|2[0-4]\\d|1\\d\\d|[1-9]?\\d)){3}))|:))|(([0-9A-Fa-f]{1,4}:){2}(((:[0-9A-Fa-f]{1,4}){1,5})|((:[0-9A-Fa-f]{1,4}){0,3}:((25[0-5]|2[0-4]\\d|1\\d\\d|[1-9]?\\d)(\\.(25[0-5]|2[0-4]\\d|1\\d\\d|[1-9]?\\d)){3}))|:))|(([0-9A-Fa-f]{1,4}:){1}(((:[0-9A-Fa-f]{1,4}){1,6})|((:[0-9A-Fa-f]{1,4}){0,4}:((25[0-5]|2[0-4]\\d|1\\d\\d|[1-9]?\\d)(\\.(25[0-5]|2[0-4]\\d|1\\d\\d|[1-9]?\\d)){3}))|:))|(:(((:[0-9A-Fa-f]{1,4}){1,7})|((:[0-9A-Fa-f]{1,4}){0,5}:((25[0-5]|2[0-4]\\d|1\\d\\d|[1-9]?\\d)(\\.(25[0-5]|2[0-4]\\d|1\\d\\d|[1-9]?\\d)){3}))|:)))(%.+)?\n",
      "IPV4 (?<![0-9])(?:(?:[0-1]?[0-9]{1,2}|2[0-4][0-9]|25[0-5])[.](?:[0-1]?[0-9]{1,2}|2[0-4][0-9]|25[0-5])[.](?:[0-1]?[0-9]{1,2}|2[0-4][0-9]|25[0-5])[.](?:[0-1]?[0-9]{1,2}|2[0-4][0-9]|25[0-5]))(?![0-9])\n",
      "IP (?:%{IPV6}|%{IPV4})\n",
      "HOSTNAME \\b(?:[0-9A-Za-z][0-9A-Za-z-]{0,62})(?:\\.(?:[0-9A-Za-z][0-9A-Za-z-]{0,62}))*(\\.?|\\b)\n",
      "IPORHOST (?:%{IP}|%{HOSTNAME})\n",
      "HOSTPORT %{IPORHOST}:%{POSINT}\n",
      "\n",
      "# paths\n",
      "PATH (?:%{UNIXPATH}|%{WINPATH})\n",
      "UNIXPATH (/([\\w_%!$@:.,+~-]+|\\\\.)*)+\n",
      "TTY (?:/dev/(pts|tty([pq])?)(\\w+)?/?(?:[0-9]+))\n",
      "WINPATH (?>[A-Za-z]+:|\\\\)(?:\\\\[^\\\\?*]*)+\n",
      "URIPROTO [A-Za-z]([A-Za-z0-9+\\-.]+)+\n",
      "URIHOST %{IPORHOST}(?::%{POSINT:port})?\n",
      "# uripath comes loosely from RFC1738, but mostly from what Firefox\n",
      "# doesn't turn into %XX\n",
      "URIPATH (?:/[A-Za-z0-9$.+!*'(){},~:;=@#%&_\\-]*)+\n",
      "#URIPARAM \\?(?:[A-Za-z0-9]+(?:=(?:[^&]*))?(?:&(?:[A-Za-z0-9]+(?:=(?:[^&]*))?)?)*)?\n",
      "URIPARAM \\?[A-Za-z0-9$.+!*'|(){},~@#%&/=:;_?\\-\\[\\]<>]*\n",
      "URIPATHPARAM %{URIPATH}(?:%{URIPARAM})?\n",
      "URI %{URIPROTO}://(?:%{USER}(?::[^@]*)?@)?(?:%{URIHOST})?(?:%{URIPATHPARAM})?\n",
      "\n",
      "# Months: January, Feb, 3, 03, 12, December\n",
      "MONTH \\b(?:[Jj]an(?:uary|uar)?|[Ff]eb(?:ruary|ruar)?|[Mm](?:a|\u00e4)?r(?:ch|z)?|[Aa]pr(?:il)?|[Mm]a(?:y|i)?|[Jj]un(?:e|i)?|[Jj]ul(?:y)?|[Aa]ug(?:ust)?|[Ss]ep(?:tember)?|[Oo](?:c|k)?t(?:ober)?|[Nn]ov(?:ember)?|[Dd]e(?:c|z)(?:ember)?)\\b\n",
      "MONTHNUM (?:0?[1-9]|1[0-2])\n",
      "MONTHNUM2 (?:0[1-9]|1[0-2])\n",
      "MONTHDAY (?:(?:0[1-9])|(?:[12][0-9])|(?:3[01])|[1-9])\n",
      "\n",
      "# Days: Monday, Tue, Thu, etc...\n",
      "DAY (?:Mon(?:day)?|Tue(?:sday)?|Wed(?:nesday)?|Thu(?:rsday)?|Fri(?:day)?|Sat(?:urday)?|Sun(?:day)?)\n",
      "\n",
      "# Years?\n",
      "YEAR (?>\\d\\d){1,2}\n",
      "HOUR (?:2[0123]|[01]?[0-9])\n",
      "MINUTE (?:[0-5][0-9])\n",
      "# '60' is a leap second in most time standards and thus is valid.\n",
      "SECOND (?:(?:[0-5]?[0-9]|60)(?:[:.,][0-9]+)?)\n",
      "TIME (?!<[0-9])%{HOUR}:%{MINUTE}(?::%{SECOND})(?![0-9])\n",
      "# datestamp is YYYY/MM/DD-HH:MM:SS.UUUU (or something like it)\n",
      "DATE_US %{MONTHNUM}[/-]%{MONTHDAY}[/-]%{YEAR}\n",
      "DATE_EU %{MONTHDAY}[./-]%{MONTHNUM}[./-]%{YEAR}\n",
      "ISO8601_TIMEZONE (?:Z|[+-]%{HOUR}(?::?%{MINUTE}))\n",
      "ISO8601_SECOND (?:%{SECOND}|60)\n",
      "TIMESTAMP_ISO8601 %{YEAR}-%{MONTHNUM}-%{MONTHDAY}[T ]%{HOUR}:?%{MINUTE}(?::?%{SECOND})?%{ISO8601_TIMEZONE}?\n",
      "DATE %{DATE_US}|%{DATE_EU}\n",
      "DATESTAMP %{DATE}[- ]%{TIME}\n",
      "TZ (?:[APMCE][SD]T|UTC)\n",
      "DATESTAMP_RFC822 %{DAY} %{MONTH} %{MONTHDAY} %{YEAR} %{TIME} %{TZ}\n",
      "DATESTAMP_RFC2822 %{DAY}, %{MONTHDAY} %{MONTH} %{YEAR} %{TIME} %{ISO8601_TIMEZONE}\n",
      "DATESTAMP_OTHER %{DAY} %{MONTH} %{MONTHDAY} %{TIME} %{TZ} %{YEAR}\n",
      "DATESTAMP_EVENTLOG %{YEAR}%{MONTHNUM2}%{MONTHDAY}%{HOUR}%{MINUTE}%{SECOND}\n",
      "\n",
      "# Syslog Dates: Month Day HH:MM:SS\n",
      "SYSLOGTIMESTAMP %{MONTH} +%{MONTHDAY} %{TIME}\n",
      "PROG [\\x21-\\x5a\\x5c\\x5e-\\x7e]+\n",
      "SYSLOGPROG %{PROG:program}(?:\\[%{POSINT:pid}\\])?\n",
      "SYSLOGHOST %{IPORHOST}\n",
      "SYSLOGFACILITY <%{NONNEGINT:facility}.%{NONNEGINT:priority}>\n",
      "HTTPDATE %{MONTHDAY}/%{MONTH}/%{YEAR}:%{TIME} %{INT}\n",
      "\n",
      "# Shortcuts\n",
      "QS %{QUOTEDSTRING}\n",
      "\n",
      "# Log formats\n",
      "SYSLOGBASE %{SYSLOGTIMESTAMP:timestamp} (?:%{SYSLOGFACILITY} )?%{SYSLOGHOST:logsource} %{SYSLOGPROG}:\n",
      "COMMONAPACHELOG %{IPORHOST:clientip} %{USER:ident} %{USER:auth} \\[%{HTTPDATE:timestamp}\\] \"(?:%{WORD:verb} %{NOTSPACE:request}(?: HTTP/%{NUMBER:httpversion})?|%{DATA:rawrequest})\" %{NUMBER:response} (?:%{NUMBER:bytes}|-)\n",
      "COMBINEDAPACHELOG %{COMMONAPACHELOG} %{QS:referrer} %{QS:agent}\n",
      "\n",
      "# Log Levels\n",
      "LOGLEVEL ([Aa]lert|ALERT|[Tt]race|TRACE|[Dd]ebug|DEBUG|[Nn]otice|NOTICE|[Ii]nfo|INFO|[Ww]arn?(?:ing)?|WARN?(?:ING)?|[Ee]rr?(?:or)?|ERR?(?:OR)?|[Cc]rit?(?:ical)?|CRIT?(?:ICAL)?|[Ff]atal|FATAL|[Ss]evere|SEVERE|EMERG(?:ENCY)?|[Ee]merg(?:ency)?)\n",
      "\"\"\"\n",
      "GROK_PATTERNS = parse_pattern_definition(GROK_PATTERN_STRING)"
     ],
     "language": "python",
     "metadata": {},
     "outputs": [],
     "prompt_number": 27
    },
    {
     "cell_type": "markdown",
     "metadata": {},
     "source": [
      "Jetzt haben wir ein paar mehr Grok-Regeln zur Verf\u00fcgung, zum Beispiel **DAY**, **TIME**, **IP** oder auch **EMAILADDRESS**"
     ]
    },
    {
     "cell_type": "code",
     "collapsed": false,
     "input": [
      "example = grok_to_regex('%{DAY} %{TIME} \"%{IP:ip}\" from %{EMAILADDRESS:mail}')\n",
      "print(example)"
     ],
     "language": "python",
     "metadata": {},
     "outputs": [
      {
       "output_type": "stream",
       "stream": "stdout",
       "text": [
        "(?:Mon(?:day)?|Tue(?:sday)?|Wed(?:nesday)?|Thu(?:rsday)?|Fri(?:day)?|Sat(?:urday)?|Sun(?:day)?) (?!<[0-9])(?:2[0123]|[01]?[0-9]):(?:[0-5][0-9])(?::(?:(?:[0-5]?[0-9]|60)(?:[:.,][0-9]+)?))(?![0-9]) \"(?P<ip>(?:((([0-9A-Fa-f]{1,4}:){7}([0-9A-Fa-f]{1,4}|:))|(([0-9A-Fa-f]{1,4}:){6}(:[0-9A-Fa-f]{1,4}|((25[0-5]|2[0-4]\\d|1\\d\\d|[1-9]?\\d)(\\.(25[0-5]|2[0-4]\\d|1\\d\\d|[1-9]?\\d)){3})|:))|(([0-9A-Fa-f]{1,4}:){5}(((:[0-9A-Fa-f]{1,4}){1,2})|:((25[0-5]|2[0-4]\\d|1\\d\\d|[1-9]?\\d)(\\.(25[0-5]|2[0-4]\\d|1\\d\\d|[1-9]?\\d)){3})|:))|(([0-9A-Fa-f]{1,4}:){4}(((:[0-9A-Fa-f]{1,4}){1,3})|((:[0-9A-Fa-f]{1,4})?:((25[0-5]|2[0-4]\\d|1\\d\\d|[1-9]?\\d)(\\.(25[0-5]|2[0-4]\\d|1\\d\\d|[1-9]?\\d)){3}))|:))|(([0-9A-Fa-f]{1,4}:){3}(((:[0-9A-Fa-f]{1,4}){1,4})|((:[0-9A-Fa-f]{1,4}){0,2}:((25[0-5]|2[0-4]\\d|1\\d\\d|[1-9]?\\d)(\\.(25[0-5]|2[0-4]\\d|1\\d\\d|[1-9]?\\d)){3}))|:))|(([0-9A-Fa-f]{1,4}:){2}(((:[0-9A-Fa-f]{1,4}){1,5})|((:[0-9A-Fa-f]{1,4}){0,3}:((25[0-5]|2[0-4]\\d|1\\d\\d|[1-9]?\\d)(\\.(25[0-5]|2[0-4]\\d|1\\d\\d|[1-9]?\\d)){3}))|:))|(([0-9A-Fa-f]{1,4}:){1}(((:[0-9A-Fa-f]{1,4}){1,6})|((:[0-9A-Fa-f]{1,4}){0,4}:((25[0-5]|2[0-4]\\d|1\\d\\d|[1-9]?\\d)(\\.(25[0-5]|2[0-4]\\d|1\\d\\d|[1-9]?\\d)){3}))|:))|(:(((:[0-9A-Fa-f]{1,4}){1,7})|((:[0-9A-Fa-f]{1,4}){0,5}:((25[0-5]|2[0-4]\\d|1\\d\\d|[1-9]?\\d)(\\.(25[0-5]|2[0-4]\\d|1\\d\\d|[1-9]?\\d)){3}))|:)))(%.+)?|(?<![0-9])(?:(?:[0-1]?[0-9]{1,2}|2[0-4][0-9]|25[0-5])[.](?:[0-1]?[0-9]{1,2}|2[0-4][0-9]|25[0-5])[.](?:[0-1]?[0-9]{1,2}|2[0-4][0-9]|25[0-5])[.](?:[0-1]?[0-9]{1,2}|2[0-4][0-9]|25[0-5]))(?![0-9])))\" from (?P<mail>[a-zA-Z][a-zA-Z0-9_.+-=:]+@\\b(?:[0-9A-Za-z][0-9A-Za-z-]{0,62})(?:\\.(?:[0-9A-Za-z][0-9A-Za-z-]{0,62}))*(\\.?|\\b))\n"
       ]
      }
     ],
     "prompt_number": 28
    },
    {
     "cell_type": "code",
     "collapsed": false,
     "input": [
      "mo = re.search(example, 'Sat 09:00:23 \"10.1.2.3\" from nix@example.invalid')\n",
      "print(mo)\n",
      "assert {\n",
      "      'ip': '10.1.2.3',\n",
      "      'mail': 'nix@example.invalid'\n",
      "    } == mo.groupdict()"
     ],
     "language": "python",
     "metadata": {},
     "outputs": [
      {
       "output_type": "stream",
       "stream": "stdout",
       "text": [
        "<regex.Match object; span=(0, 48), match='Sat 09:00:23 \"10.1.2.3\" from nix@example.invalid'>\n"
       ]
      }
     ],
     "prompt_number": 29
    },
    {
     "cell_type": "code",
     "collapsed": false,
     "input": [
      "mo = re.search(example, 'Sat 23:59:59 \"0::1\" from someone@overthere.invalid')\n",
      "print(mo)\n",
      "assert {\n",
      "     'ip': '0::1',\n",
      "     'mail': 'someone@overthere.invalid'\n",
      "   } == mo.groupdict()"
     ],
     "language": "python",
     "metadata": {},
     "outputs": [
      {
       "output_type": "stream",
       "stream": "stdout",
       "text": [
        "<regex.Match object; span=(0, 50), match='Sat 23:59:59 \"0::1\" from someone@overthere.invalid'>\n"
       ]
      }
     ],
     "prompt_number": 30
    },
    {
     "cell_type": "code",
     "collapsed": false,
     "input": [
      "#print(grok_to_regex(\"%{QS}\"))\n",
      "mo = re.search(grok_to_regex(\"%{QS:qs}\"), \"\"\"Hallo \"Welt'\" \"\"\")\n",
      "assert {'qs': '\"Welt\\'\"' } == mo.groupdict()"
     ],
     "language": "python",
     "metadata": {},
     "outputs": [],
     "prompt_number": 31
    },
    {
     "cell_type": "markdown",
     "metadata": {},
     "source": [
      "#Ende\n",
      "\n",
      "Es gibt selbstverst\u00e4ndlich bereits python Module, die Grok (Regeln) verarbeiten k\u00f6nnen. Dies ist also nur als Beispiel zu sehen.\n",
      "\n",
      " * [pygrok](https://github.com/garyelephant/pygrok)\n",
      " * [korg](https://github.com/finklabs/korg)"
     ]
    }
   ],
   "metadata": {}
  }
 ]
}